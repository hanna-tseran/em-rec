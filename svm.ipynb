{
 "cells": [
  {
   "cell_type": "code",
   "execution_count": 41,
   "metadata": {
    "collapsed": false
   },
   "outputs": [],
   "source": [
    "import numpy as np\n",
    "import matplotlib.pyplot as plt\n",
    "import matplotlib.image as mpimg\n",
    "from matplotlib import style\n",
    "#style.use(\"ggplot\")\n",
    "from sklearn import svm\n",
    "import cv2\n",
    "import os\n",
    "import av\n",
    "import shutil\n",
    "\n",
    "from sklearn import datasets"
   ]
  },
  {
   "cell_type": "code",
   "execution_count": 22,
   "metadata": {
    "collapsed": true
   },
   "outputs": [],
   "source": [
    "%matplotlib inline"
   ]
  },
  {
   "cell_type": "code",
   "execution_count": 143,
   "metadata": {
    "collapsed": false
   },
   "outputs": [
    {
     "name": "stdout",
     "output_type": "stream",
     "text": [
      "\n"
     ]
    }
   ],
   "source": [
    "WORKING_FOLDER = \"/home/eola/research\"\n",
    "DB_FOLDER = \"{}/AFEW 5.0\". format(WORKING_FOLDER)\n",
    "FRAMES_FOLDER = \"{}/Frames\". format(WORKING_FOLDER)\n",
    "DB_TRAIN = \"{}/Train\". format(DB_FOLDER)"
   ]
  },
  {
   "cell_type": "code",
   "execution_count": 144,
   "metadata": {
    "collapsed": false
   },
   "outputs": [],
   "source": [
    "def get_videos_dict():\n",
    "    videos = {} #emotion_name: [] of videos names\n",
    "    for root, dirs, files in os.walk(DB_TRAIN):\n",
    "        # for all emotion folders\n",
    "        for dirname in dirs:\n",
    "            # put videos names in current emotion folder\n",
    "            videos[dirname] = []\n",
    "            for r, d, f in os.walk(\"{}/{}\".format(DB_TRAIN, dirname)):\n",
    "                videos[dirname].extend(f)\n",
    "                break    \n",
    "        # process root only\n",
    "        break\n",
    "\n",
    "#     for emotion, videos_list in videos.iteritems():\n",
    "#         print \"{}: {}\".format(emotion, len(videos_list))\n",
    "        \n",
    "    return videos"
   ]
  },
  {
   "cell_type": "code",
   "execution_count": 145,
   "metadata": {
    "collapsed": true
   },
   "outputs": [],
   "source": [
    "def delete_frames():\n",
    "    if os.path.exists(FRAMES_FOLDER):\n",
    "        shutil.rmtree(FRAMES_FOLDER)"
   ]
  },
  {
   "cell_type": "code",
   "execution_count": 155,
   "metadata": {
    "collapsed": false
   },
   "outputs": [],
   "source": [
    "def extract_frames():\n",
    "    print \"extract_frames\"\n",
    "    \n",
    "    if os.path.exists(FRAMES_FOLDER):\n",
    "        print \"Frames have already been extracted to {}\".format(FRAMES_FOLDER)\n",
    "        return\n",
    "       \n",
    "    videos = get_videos_dict()\n",
    "    os.mkdir(FRAMES_FOLDER)\n",
    "    for emotion_name, videos_list in videos.iteritems():\n",
    "        print \"{}: {}\".format(emotion_name, len(videos_list))\n",
    "        current_db_folder = \"{}/{}\".format(DB_TRAIN, emotion_name)\n",
    "        current_frames_folder = \"{}/{}\".format(FRAMES_FOLDER, emotion_name)\n",
    "        os.mkdir(current_frames_folder)\n",
    "        video_count = 0\n",
    "        for video in videos_list:\n",
    "            video_frames_path = \"{}/{}\".format(current_frames_folder, video)\n",
    "            os.mkdir(video_frames_path)\n",
    "            container = av.open(\"{}/{}\".format(current_db_folder, video))\n",
    "            \n",
    "            # extract frames amd save them as jpg files\n",
    "            count = 0\n",
    "            frames = []\n",
    "            for packet in container.demux():\n",
    "                for frame in packet.decode():\n",
    "                    if(type(frame) == av.VideoFrame):\n",
    "                        frame_path = \"{}/{}.jpg\".format(video_frames_path, count)\n",
    "                        frame.to_image().save(frame_path)\n",
    "#                         img = mpimg.imread(frame_path)\n",
    "#                         plt.imshow(img)\n",
    "#                         plt.show\n",
    "                        count += 1\n",
    "    \n",
    "            video_count += 1\n",
    "            if not video_count % 10:\n",
    "                print video_count,\n",
    "        print"
   ]
  },
  {
   "cell_type": "code",
   "execution_count": 156,
   "metadata": {
    "collapsed": false
   },
   "outputs": [
    {
     "name": "stdout",
     "output_type": "stream",
     "text": [
      "extract_frames\n",
      "Angry: 118\n",
      "10 20 30 40 50 60 70 80 90 100 110\n",
      "Sad: 107\n",
      "10 20 30 40 50 60 70 80 90 100\n",
      "Neutral: 131\n",
      "10 20 30 40 50 60 70 80 90 100 110 120 130\n",
      "Disgust: 72\n",
      "10 20 30 40 50 60 70\n",
      "Surprise: 73\n",
      "10 20 30 40 50 60 70\n",
      "Fear: 77\n",
      "10 20 30 40 50 60 70\n",
      "Happy: 145\n",
      "10 20 30 40 50 60 70 80 90 100 110 120 130 140\n"
     ]
    }
   ],
   "source": [
    "# delete_frames()\n",
    "extract_frames()"
   ]
  },
  {
   "cell_type": "code",
   "execution_count": 157,
   "metadata": {
    "collapsed": true
   },
   "outputs": [],
   "source": [
    "sift = cv2.SIFT()\n",
    "descriptors = []\n",
    "for path in training_paths:\n",
    "    image = cv2.imread(path)\n",
    "    print path\n",
    "    gray = cv2.cvtColor(image, cv2.CV_LOAD_IMAGE_GRAYSCALE)\n",
    "    kp, dsc= sift.detectAndCompute(gray, None)\n",
    "    descriptors.append(dsc)\n",
    "\n",
    "des = np.array(descriptors)\n",
    "\n",
    "k=5\n",
    "bow = cv2.BOWKMeansTrainer(k)\n",
    "bow.cluster(des)"
   ]
  },
  {
   "cell_type": "code",
   "execution_count": 57,
   "metadata": {
    "collapsed": false
   },
   "outputs": [
    {
     "name": "stdout",
     "output_type": "stream",
     "text": [
      "OK\n",
      "2.0\n",
      "res: True\n",
      "1244160\n",
      "res: True\n",
      "1244160\n",
      "res: True\n",
      "1244160\n",
      "done\n"
     ]
    },
    {
     "data": {
      "image/png": "[encoded data removed]",
      "text/plain": [
       "<matplotlib.figure.Figure at 0x7ff22e29e950>"
      ]
     },
     "metadata": {},
     "output_type": "display_data"
    }
   ],
   "source": [
    "# cap = cv2.VideoCapture(\"test.avi\")\n",
    "# if cap.isOpened():\n",
    "#     print \"OK\"\n",
    "# else:\n",
    "#     print \"Trouble\"\n",
    "    \n",
    "# fps = cap.get(cv2.cv.CV_CAP_PROP_FPS)\n",
    "# f_num = cap.get(cv2.cv.CV_CAP_PROP_FRAME_COUNT)\n",
    "# print f_num\n",
    "\n",
    "# rval, frame = cap.read()\n",
    "# while rval:\n",
    "#     print \"res: \" + str(rval)\n",
    "\n",
    "#     print frame.size\n",
    "#     cv2.imwrite(\"test.jpg\", frame)\n",
    "\n",
    "#     import matplotlib.image as mpimg\n",
    "#     img=mpimg.imread(\"test.jpg\")\n",
    "#     plt.imshow(img)\n",
    "#     # plt.axis('off')\n",
    "#     plt.show\n",
    "    \n",
    "#     rval, frame = cap.read()\n",
    "\n",
    "# print \"done\""
   ]
  },
  {
   "cell_type": "code",
   "execution_count": 21,
   "metadata": {
    "collapsed": true
   },
   "outputs": [],
   "source": [
    "home_str = \"~/research/\""
   ]
  },
  {
   "cell_type": "code",
   "execution_count": 22,
   "metadata": {
    "collapsed": true
   },
   "outputs": [],
   "source": [
    "from sklearn import datasets\n",
    "iris = datasets.load_iris()\n"
   ]
  },
  {
   "cell_type": "code",
   "execution_count": 23,
   "metadata": {
    "collapsed": false
   },
   "outputs": [
    {
     "data": {
      "text/plain": [
       "SVC(C=1.0, cache_size=200, class_weight=None, coef0=0.0,\n",
       "  decision_function_shape=None, degree=3, gamma='auto', kernel='linear',\n",
       "  max_iter=-1, probability=False, random_state=None, shrinking=True,\n",
       "  tol=0.001, verbose=False)"
      ]
     },
     "execution_count": 23,
     "metadata": {},
     "output_type": "execute_result"
    }
   ],
   "source": [
    "from sklearn import svm\n",
    "svc = svm.SVC(kernel='linear')\n",
    "svc.fit(iris.data, iris.target) "
   ]
  },
  {
   "cell_type": "code",
   "execution_count": null,
   "metadata": {
    "collapsed": true
   },
   "outputs": [],
   "source": []
  }
 ],
 "metadata": {
  "kernelspec": {
   "display_name": "Python 2",
   "language": "python",
   "name": "python2"
  },
  "language_info": {
   "codemirror_mode": {
    "name": "ipython",
    "version": 2
   },
   "file_extension": ".py",
   "mimetype": "text/x-python",
   "name": "python",
   "nbconvert_exporter": "python",
   "pygments_lexer": "ipython2",
   "version": "2.7.11+"
  }
 },
 "nbformat": 4,
 "nbformat_minor": 0
}
